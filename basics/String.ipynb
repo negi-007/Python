{
 "cells": [
  {
   "cell_type": "markdown",
   "id": "d24e0eec-7681-41cc-9ec1-c873b586bfb1",
   "metadata": {},
   "source": [
    "String is a sequence of characters, In python anything inside quotes as a string. This includes letters, numbers, and symbols. Python has no character data type so single character is a string of length 1."
   ]
  },
  {
   "cell_type": "code",
   "execution_count": 15,
   "id": "4d954572-5549-4e01-9616-b143abbedb7d",
   "metadata": {},
   "outputs": [
    {
     "name": "stdout",
     "output_type": "stream",
     "text": [
      "Original String:  I am a coder\n",
      "after Upper():  I AM A CODER\n",
      "after Lower():  i am a coder\n"
     ]
    }
   ],
   "source": [
    "# convert string to upper/lowercase.\n",
    "str = \"I am a coder\"\n",
    "print(\"Original String: \", str) \n",
    "str = str.upper()\n",
    "print(\"after Upper(): \", str)\n",
    "str = str.lower()\n",
    "print(\"after Lower(): \", str)"
   ]
  },
  {
   "cell_type": "code",
   "execution_count": 21,
   "id": "665f61b0-225a-49a4-9f45-21a9883b494e",
   "metadata": {},
   "outputs": [
    {
     "name": "stdout",
     "output_type": "stream",
     "text": [
      "I am a coder\n"
     ]
    }
   ],
   "source": [
    "# capitalize the first letter of string\n",
    "str = str.capitalize()\n",
    "print(str)"
   ]
  },
  {
   "cell_type": "code",
   "execution_count": 25,
   "id": "e7dba614-3af0-47bb-9845-3e8b12b3b3fe",
   "metadata": {},
   "outputs": [
    {
     "name": "stdout",
     "output_type": "stream",
     "text": [
      "I Am A Coder\n"
     ]
    }
   ],
   "source": [
    "# capitalize the first letter of each word\n",
    "str = str.title()\n",
    "print(str)"
   ]
  },
  {
   "cell_type": "code",
   "execution_count": 43,
   "id": "b225df65-d1c2-442c-9a2a-e4af826eed4f",
   "metadata": {},
   "outputs": [
    {
     "name": "stdout",
     "output_type": "stream",
     "text": [
      "Using Strip():  Hello,,,,   World!\n",
      "Using Lstrip():  Hello,,,,   World!    \n",
      "Using rstrip():      Hello,,,,   World!\n",
      "Using specified character as ',':      Hello,,,,   World!    \n",
      "If the ',' were leading or trailing then they would have been removed therefore the above string is same even after strip\n"
     ]
    }
   ],
   "source": [
    "# remove the whitespaces or the specified characters using strip(), lstrip(), rstrip()\n",
    "# strip() -> Removes all leading and trailing whitespaces (default) or specified characters from the string.\n",
    "# lstrip() -> Removes all leading and trailing whitespaces (default) or specified characters from the string.\n",
    "# rstrip() -> Removes all leading and trailing whitespaces (default) or specified characters from the string.\n",
    "\n",
    "text = \"    Hello,,,,   World!    \"\n",
    "\n",
    "# Remove leading and trailing whitespaces\n",
    "using_strip = text.strip()\n",
    "print(\"Using Strip(): \", using_strip)\n",
    "\n",
    "# Remove leading whitespaces\n",
    "using_lstrip = text.lstrip()\n",
    "print(\"Using Lstrip(): \", using_lstrip)\n",
    "\n",
    "# Remove trailing whitespaces\n",
    "using_rstrip = text.rstrip()\n",
    "print(\"Using rstrip(): \", using_rstrip)\n",
    "\n",
    "# Remove the specified character ',' (this will not affect leading or trailing spaces, as ',' is not found there)\n",
    "using_specified_character = text.strip(',')\n",
    "print(\"Using specified character as ',': \", using_specified_character)\n",
    "print(\"If the ',' were leading or trailing then they would have been removed therefore the above string is same even after strip\")"
   ]
  },
  {
   "cell_type": "code",
   "execution_count": 49,
   "id": "352badbf-57fc-4455-85c2-eb0ae032b64a",
   "metadata": {},
   "outputs": [
    {
     "name": "stdout",
     "output_type": "stream",
     "text": [
      "I love Python Programming\n"
     ]
    }
   ],
   "source": [
    "# Replace a substring\n",
    "str = \"I love coding\"\n",
    "replaced_text = str.replace(\"coding\", \"Python Programming\")\n",
    "print(replaced_text)"
   ]
  },
  {
   "cell_type": "code",
   "execution_count": 53,
   "id": "3c5114fd-252c-4b65-9795-6b0f09c67031",
   "metadata": {},
   "outputs": [
    {
     "name": "stdout",
     "output_type": "stream",
     "text": [
      "2\n"
     ]
    }
   ],
   "source": [
    "# find a substring\n",
    "str = \"I love coding\"\n",
    "print(str.find(\"love\")) # returns the first index where the sbustring was found else returns -1 if not found"
   ]
  },
  {
   "cell_type": "code",
   "execution_count": 69,
   "id": "42774f0f-2fb1-4efa-98a7-077df88f912e",
   "metadata": {},
   "outputs": [
    {
     "name": "stdout",
     "output_type": "stream",
     "text": [
      "['I', 'am', 'a', 'professional', 'coder']\n",
      "I am a professional coder\n",
      "['I', 'am', 'a', 'professional', 'coder']\n",
      "Ixamxaxprofessionalxcoder\n"
     ]
    }
   ],
   "source": [
    "# split a list into different parts\n",
    "str = \"I am a professional coder\"\n",
    "words = str.split()\n",
    "print(str)\n",
    "print(words)\n",
    "\n",
    "# splitting with somse different delimeter\n",
    "str = \"Ixamxaxprofessionalxcoder\"\n",
    "words = str.split(\"x\")\n",
    "print(str)\n",
    "print(words)"
   ]
  },
  {
   "cell_type": "code",
   "execution_count": 75,
   "id": "55b0be02-097a-4334-97af-8a7e3c901a57",
   "metadata": {},
   "outputs": [
    {
     "name": "stdout",
     "output_type": "stream",
     "text": [
      "Original string: Hello Everyone, \n",
      "Joined from string: HHello Everyone, oHello Everyone, wHello Everyone,  Hello Everyone, aHello Everyone, rHello Everyone, eHello Everyone,  Hello Everyone, yHello Everyone, oHello Everyone, uHello Everyone,  Hello Everyone, dHello Everyone, oHello Everyone, iHello Everyone, nHello Everyone, g\n",
      "Joined from list: SoHello Everyone, LetsHello Everyone, Advance\n",
      "Joined from tuple: furtherHello Everyone, !\n"
     ]
    }
   ],
   "source": [
    "# join elements of an iterable to a string (iterable could be any type)\n",
    "\n",
    "str = \"Hello Everyone, \"\n",
    "next_str = \"How are you doing\"\n",
    "next_list = [\"So\", \"Lets\", \"Advance\"]\n",
    "next_tuple = (\"further\", \"!\")\n",
    "print(\"Original string:\", str)\n",
    "joined_from_str = str.join(next_str)\n",
    "print(\"Joined from string:\", joined_from_str)\n",
    "joined_from_list = str.join(next_list)\n",
    "print(\"Joined from list:\", joined_from_list)\n",
    "joined_from_tuple = str.join(next_tuple)\n",
    "print(\"Joined from tuple:\", joined_from_tuple)"
   ]
  },
  {
   "cell_type": "code",
   "execution_count": 5,
   "id": "d7d6cb75-0a1b-40d8-8ecc-ddf9624e680d",
   "metadata": {},
   "outputs": [
    {
     "name": "stdout",
     "output_type": "stream",
     "text": [
      "True\n",
      "False\n"
     ]
    }
   ],
   "source": [
    "# Check if the string starts or ends with a specific word\n",
    "str = \"Hello, I am a python programmer\"\n",
    "st = str.startswith(\"Hello\")\n",
    "print(st)\n",
    "ed = str.endswith(\"Programming!\")\n",
    "print(ed)"
   ]
  },
  {
   "cell_type": "code",
   "execution_count": 9,
   "id": "6c277d63-81c9-4dc0-bd2e-b1cf62104436",
   "metadata": {},
   "outputs": [
    {
     "name": "stdout",
     "output_type": "stream",
     "text": [
      "True\n",
      "False\n",
      "True\n",
      "False\n"
     ]
    }
   ],
   "source": [
    "# Check type of characters\n",
    "str = \"hello\"\n",
    "print(str.isalpha())\n",
    "print(str.isdigit())\n",
    "print(str.isalnum())\n",
    "print(str.isspace())"
   ]
  },
  {
   "cell_type": "code",
   "execution_count": 11,
   "id": "17239ceb-dea1-4d11-91bb-b3a67202fe86",
   "metadata": {},
   "outputs": [
    {
     "name": "stdout",
     "output_type": "stream",
     "text": [
      "Hello, Alice. Welcome to Wonderland.\n",
      "Hello, Alice. Welcome to Wonderland.\n",
      "Hello, Alice. Welcome to Wonderland.\n",
      "Alice, meet Bob. Welcome to Wonderland.\n"
     ]
    }
   ],
   "source": [
    "# The format() method in Python is used for string formatting. It allows you to insert variables or values into a string, with more flexibility and readability than using concatenation.\n",
    "\n",
    "# Positional placeholders\n",
    "text = \"Hello, {}. Welcome to {}.\"\n",
    "formatted_text = text.format(\"Alice\", \"Wonderland\")\n",
    "print(formatted_text)\n",
    "\n",
    "# Specifying positions\n",
    "text = \"Hello, {1}. Welcome to {0}.\"\n",
    "formatted_text = text.format(\"Wonderland\", \"Alice\")\n",
    "print(formatted_text)\n",
    "\n",
    "# Using named placeholders\n",
    "text = \"Hello, {name}. Welcome to {place}.\"\n",
    "formatted_text = text.format(name=\"Alice\", place=\"Wonderland\")\n",
    "print(formatted_text)\n",
    "\n",
    "# Combining positional and named arguments\n",
    "text = \"{}, meet {friend}. Welcome to {}.\"\n",
    "formatted_text = text.format(\"Alice\", \"Wonderland\", friend=\"Bob\")\n",
    "print(formatted_text)"
   ]
  },
  {
   "cell_type": "code",
   "execution_count": null,
   "id": "1cf46a80-44e8-4ea9-8655-c1be33beb9b9",
   "metadata": {},
   "outputs": [],
   "source": []
  }
 ],
 "metadata": {
  "kernelspec": {
   "display_name": "Python 3 (ipykernel)",
   "language": "python",
   "name": "python3"
  },
  "language_info": {
   "codemirror_mode": {
    "name": "ipython",
    "version": 3
   },
   "file_extension": ".py",
   "mimetype": "text/x-python",
   "name": "python",
   "nbconvert_exporter": "python",
   "pygments_lexer": "ipython3",
   "version": "3.12.4"
  }
 },
 "nbformat": 4,
 "nbformat_minor": 5
}
