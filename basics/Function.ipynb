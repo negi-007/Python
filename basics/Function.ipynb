{
 "cells": [
  {
   "cell_type": "markdown",
   "id": "84512ede-ca33-43ad-9a55-eeb0f8fb4018",
   "metadata": {},
   "source": [
    "Function is a block of statements that binds a specific group of task performing a operation which might be required multiple time, so that instead of writing the same code again and again for different inputs, we can achieve code reusablity and increased code readablity"
   ]
  },
  {
   "cell_type": "code",
   "execution_count": 4,
   "id": "688a4689-25e5-4e6d-816a-945ecc8cc9df",
   "metadata": {},
   "outputs": [
    {
     "name": "stdout",
     "output_type": "stream",
     "text": [
      "I am a programmer\n"
     ]
    }
   ],
   "source": [
    "# simple python function\n",
    "def func():\n",
    "    print(\"I am a programmer\")\n",
    "    \n",
    "# calling a function\n",
    "func()"
   ]
  },
  {
   "cell_type": "code",
   "execution_count": 8,
   "id": "b8a79f29-715e-489f-896e-cb17bcb1eae9",
   "metadata": {},
   "outputs": [
    {
     "name": "stdout",
     "output_type": "stream",
     "text": [
      "Sum of 4, 5 is: 9\n"
     ]
    }
   ],
   "source": [
    "# python function with a parameters\n",
    "\n",
    "# def function_name(parameter: data_type) -> return_type:\n",
    "#     \"\"\"Docstring\"\"\"\n",
    "#     # body of the function\n",
    "#     return expression\n",
    "\n",
    "def add(a: int, b: int) -> int:\n",
    "    res = a + b\n",
    "    return res\n",
    "\n",
    "# calling a parametrised function\n",
    "a, b = 4, 5\n",
    "print(f\"Sum of {a}, {b} is: {add(a, b)}\")"
   ]
  },
  {
   "cell_type": "markdown",
   "id": "d9bd26fd-bdef-4732-acb4-a7e1b1487070",
   "metadata": {},
   "source": [
    "Types of Python Function Arguments\r\n",
    "Python supports various types of arguments that can be passed at the time of the function call. In Python, we have the following function argument types in Python:\r\n",
    "\r\n",
    "Default argument\r\n",
    "Keyword arguments (named arguments)\r\n",
    "Positional arguments\r\n",
    "Arbitrary arguments (variable-length arguments *args and **kwargs)args)"
   ]
  },
  {
   "cell_type": "code",
   "execution_count": 26,
   "id": "b3212b0f-f16f-4b28-9520-1de636a3e18b",
   "metadata": {},
   "outputs": [
    {
     "name": "stdout",
     "output_type": "stream",
     "text": [
      "value of x: 10\n",
      "value of y: 30\n"
     ]
    }
   ],
   "source": [
    "# Default arguments: a parameter that assumes a default value if a value is not provided in the function call for that argument.\n",
    "def func(x, y = 30):\n",
    "    print(f\"value of x: {x}\")\n",
    "    print(f\"value of y: {y}\")\n",
    "\n",
    "func(10)"
   ]
  },
  {
   "cell_type": "code",
   "execution_count": 34,
   "id": "fa84ca80-3b3b-4a2a-b92c-a62db7bdc654",
   "metadata": {},
   "outputs": [
    {
     "name": "stdout",
     "output_type": "stream",
     "text": [
      "Username: Jeff Rogers\n"
     ]
    }
   ],
   "source": [
    "# Keyword Arguments: The idea is to allow the caller to specify the argument name with values so that the caller does not need to remember the order of parameters.\n",
    "def username(firstname, lastname):\n",
    "    print(f\"Username: {firstname} {lastname}\")\n",
    "\n",
    "username(firstname = \"Jeff\", lastname = \"Rogers\")"
   ]
  },
  {
   "cell_type": "code",
   "execution_count": 40,
   "id": "2f003544-50a9-4400-ace1-30df018d4c7e",
   "metadata": {},
   "outputs": [
    {
     "name": "stdout",
     "output_type": "stream",
     "text": [
      "Case 1:\n",
      "Hi, I am Suraj\n",
      "My age is  27\n",
      "\n",
      "Case 2:\n",
      "Hi, I am 27\n",
      "My age is  Suraj\n"
     ]
    }
   ],
   "source": [
    " # Position arguments: during the function call so that the first argument (or value) is assigned to name and the second argument (or value) is assigned to age. \n",
    "def nameAge(name, age):\n",
    "    print(\"Hi, I am\", name)\n",
    "    print(\"My age is \", age)\n",
    "\n",
    "\n",
    "# Correct output because argument is given in order\n",
    "print(\"Case 1:\")\n",
    "nameAge(\"Suraj\", 27)\n",
    "# Incorrect output because argument is not in order\n",
    "print(\"\\nCase 2:\")\n",
    "nameAge(27, \"Suraj\")"
   ]
  },
  {
   "cell_type": "code",
   "execution_count": 48,
   "id": "f3e61ec8-a89e-4db9-81ec-310091ec4192",
   "metadata": {},
   "outputs": [
    {
     "name": "stdout",
     "output_type": "stream",
     "text": [
      "User of *args in Python(Non-keyword Arguments)\n",
      "Hello\n",
      "Welcome\n",
      "to\n",
      "Programming\n",
      "\n",
      "\n",
      "User of **kwargs in Python(Keyword Arguments)\n",
      "first == Python\n",
      "mid == Programming\n",
      "last == World\n"
     ]
    }
   ],
   "source": [
    "# Arbitrary Keyword  Arguments\n",
    "# In Python Arbitrary Keyword Arguments, *args, and **kwargs can pass a variable number of arguments to a function using special symbols. There are two special symbols:\n",
    "\n",
    "# *args in Python (Non-Keyword Arguments)\n",
    "# **kwargs in Python (Keyword Arguments)\n",
    "\n",
    "print(\"User of *args in Python(Non-keyword Arguments)\")\n",
    "# *args for variable number of arguments\n",
    "def myFun(*argv):\n",
    "    for arg in argv:\n",
    "        print(arg)\n",
    "\n",
    "myFun('Hello', 'Welcome', 'to', 'Programming')\n",
    "\n",
    "\n",
    "print(\"\\n\\nUser of **kwargs in Python(Keyword Arguments)\")\n",
    "# *kwargs for variable number of keyword arguments\n",
    "def myFun(**kwargs):\n",
    "    for key, value in kwargs.items():\n",
    "        print(\"%s == %s\" % (key, value))\n",
    "\n",
    "myFun(first='Python', mid='Programming', last='World')"
   ]
  },
  {
   "cell_type": "code",
   "execution_count": 52,
   "id": "050d8ea0-47dd-47c5-b2b6-82ca0e7058a5",
   "metadata": {},
   "outputs": [
    {
     "name": "stdout",
     "output_type": "stream",
     "text": [
      "Function to check if the number is even or odd\n"
     ]
    }
   ],
   "source": [
    "# Docstring\n",
    "# The first string after the function is called the Document string or Docstring in short. This is used to describe the functionality of the function. The use of docstring in functions is optional but it is considered a good practice.\n",
    "\n",
    "# Syntax: print(function_name.__doc__)\n",
    "def isEvenOdd(x):\n",
    "    \"\"\"Function to check if the number is even or odd\"\"\"\n",
    "    if (x % 2 == 0):\n",
    "        print(\"even\")\n",
    "    else:\n",
    "        print(\"odd\")\n",
    "\n",
    "print(isEvenOdd.__doc__)"
   ]
  },
  {
   "cell_type": "code",
   "execution_count": 54,
   "id": "7f5e941e-46cb-4e8b-8dc4-895474a3df07",
   "metadata": {},
   "outputs": [
    {
     "name": "stdout",
     "output_type": "stream",
     "text": [
      "I love Python\n"
     ]
    }
   ],
   "source": [
    "# Python Function within Functions\n",
    "# A function that is defined inside another function is known as the inner function or nested function. \n",
    "# Nested functions can access variables of the enclosing scope. \n",
    "# Inner functions are used so that they can be protected from everything happening outside the function.\n",
    "def f1():\n",
    "    s = 'I love Python'\n",
    "    def f2():\n",
    "        print(s)\n",
    "        \n",
    "    f2()\n",
    "\n",
    "f1()"
   ]
  },
  {
   "cell_type": "code",
   "execution_count": 56,
   "id": "ed4807f5-bc17-4d98-b8cd-19055628adb6",
   "metadata": {},
   "outputs": [
    {
     "name": "stdout",
     "output_type": "stream",
     "text": [
      "343\n",
      "343\n"
     ]
    }
   ],
   "source": [
    "# Anonymous Functions: function without a name. \n",
    "# The lambda keyword is used to create anonymous functions.\n",
    "\n",
    "def cube(x): return x*x*x\n",
    "\n",
    "cube_v2 = lambda x : x*x*x\n",
    "\n",
    "print(cube(7))\n",
    "print(cube_v2(7))"
   ]
  },
  {
   "cell_type": "markdown",
   "id": "1b55e42a-6389-4176-af79-3dd8a4dd7871",
   "metadata": {},
   "source": [
    "In Python every variable name is a reference. When we pass a variable to a function, a new reference to the object is created.\n",
    "But still the changes made inside the function does not affect the global scope."
   ]
  }
 ],
 "metadata": {
  "kernelspec": {
   "display_name": "Python 3 (ipykernel)",
   "language": "python",
   "name": "python3"
  },
  "language_info": {
   "codemirror_mode": {
    "name": "ipython",
    "version": 3
   },
   "file_extension": ".py",
   "mimetype": "text/x-python",
   "name": "python",
   "nbconvert_exporter": "python",
   "pygments_lexer": "ipython3",
   "version": "3.12.4"
  }
 },
 "nbformat": 4,
 "nbformat_minor": 5
}
