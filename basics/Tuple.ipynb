{
 "cells": [
  {
   "cell_type": "markdown",
   "id": "6e42aa6f-eaf7-4fc7-b6b4-9e1eb4517db5",
   "metadata": {},
   "source": [
    "Python Tuple is a collection of objects separated by commas. A tuple is similar to a Python list in terms of indexing, nested objects, and repetition but the main difference between both is Python tuple is immutable, unlike the Python list which is mutable\n",
    "\n",
    "What is Immutable in Tuples?\r\n",
    "Unlike Python lists, tuples are immutable. Some Characteristics of Tuples in Python.\r\n",
    "\r\n",
    "Like Lists, tuples are ordered and we can access their elements using their index values\r\n",
    "We cannot update items to a tuple once it is created. \r\n",
    "Tuples cannot be appended or extended.\r\n",
    "We cannot remove items from a tuple once it is created. "
   ]
  },
  {
   "cell_type": "code",
   "execution_count": 9,
   "id": "ede12c78-e62b-4065-9851-761bec6fa700",
   "metadata": {},
   "outputs": [
    {
     "name": "stdout",
     "output_type": "stream",
     "text": [
      "('apple', 'banana', 'cherry', 'apple', 'banana')\n"
     ]
    }
   ],
   "source": [
    "# creating a tuple of strings\n",
    "fruits = ('apple', 'banana', 'cherry', 'apple', 'banana')\n",
    "print(fruits)"
   ]
  },
  {
   "cell_type": "code",
   "execution_count": 21,
   "id": "274d1256-3136-4027-8657-4c6868e38c3c",
   "metadata": {},
   "outputs": [
    {
     "name": "stdout",
     "output_type": "stream",
     "text": [
      "1\n",
      "4\n"
     ]
    }
   ],
   "source": [
    "# find the index of an element\n",
    "index_banana = fruits.index('banana')\n",
    "print(index_banana)\n",
    "\n",
    "custom_picked = fruits.index('banana', 2, len(fruits))\n",
    "print(custom_picked)"
   ]
  },
  {
   "cell_type": "code",
   "execution_count": 15,
   "id": "630a0285-a4ab-43ba-87c5-568035206931",
   "metadata": {},
   "outputs": [
    {
     "name": "stdout",
     "output_type": "stream",
     "text": [
      "2\n"
     ]
    }
   ],
   "source": [
    "# count the occurences of an element\n",
    "apple_count = fruits.count(\"apple\")\n",
    "print(apple_count)"
   ]
  },
  {
   "cell_type": "code",
   "execution_count": 23,
   "id": "ce8c41c0-f505-455d-bd1a-9fff53da83a8",
   "metadata": {},
   "outputs": [
    {
     "name": "stdout",
     "output_type": "stream",
     "text": [
      "(1, 2, 3, 4)\n",
      "('a', 'p', 'p', 'l', 'e')\n"
     ]
    }
   ],
   "source": [
    "# convert iterable into a tuple\n",
    "list_to_tuple = tuple([1,2,3,4])\n",
    "print(list_to_tuple)\n",
    "\n",
    "string_to_tuple = tuple(\"apple\")\n",
    "print(string_to_tuple)"
   ]
  },
  {
   "cell_type": "code",
   "execution_count": 25,
   "id": "abe53ed7-c95e-46a1-982e-e717c5424905",
   "metadata": {},
   "outputs": [
    {
     "name": "stdout",
     "output_type": "stream",
     "text": [
      "['apple', 'banana']\n"
     ]
    }
   ],
   "source": [
    "# tuple unpacking\n",
    "(a, b, c, *rest) = fruits\n",
    "print(rest)"
   ]
  }
 ],
 "metadata": {
  "kernelspec": {
   "display_name": "Python 3 (ipykernel)",
   "language": "python",
   "name": "python3"
  },
  "language_info": {
   "codemirror_mode": {
    "name": "ipython",
    "version": 3
   },
   "file_extension": ".py",
   "mimetype": "text/x-python",
   "name": "python",
   "nbconvert_exporter": "python",
   "pygments_lexer": "ipython3",
   "version": "3.12.4"
  }
 },
 "nbformat": 4,
 "nbformat_minor": 5
}
