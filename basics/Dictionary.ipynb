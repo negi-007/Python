{
 "cells": [
  {
   "cell_type": "markdown",
   "id": "2eee89e0-9737-4926-a7c0-59dcf9bac4f2",
   "metadata": {},
   "source": [
    " Python dictionary is a data structure that stores the value in key: value pairs. Values in a dictionary can be of any data type and can be duplicated, whereas keys can’t be repeated and must be immutable.\n",
    "\n",
    "From Python 3.7 Version onward, Python dictionary are Ordered.\n",
    "\n",
    "\n",
    "Dictionary keys are case sensitive: the same name but different cases of Key will be treated distinctly.\r\n",
    "Keys must be immutable\n",
    ": This mea s keys can be strings, numbers, or tuples but not lists.\r\n",
    "Keys must be unique: Duplicate keys are not allowed and any duplicate key will overwrite the previous val\n",
    "e.\r\n",
    "Dictionary internally uses Hashing. Hence, operations like search, insert, delete can be performed in Constant Time."
   ]
  },
  {
   "cell_type": "code",
   "execution_count": 2,
   "id": "c052c1a1-ed1e-48c9-a259-9b2d6ec33e74",
   "metadata": {},
   "outputs": [
    {
     "name": "stdout",
     "output_type": "stream",
     "text": [
      "{'name': 'Sourabh', 'age': 21, 'city': 'Dehradun'}\n"
     ]
    }
   ],
   "source": [
    "# creating a dictionary\n",
    "\n",
    "person = {'name': 'Sourabh', 'age': 21, 'city': 'Dehradun'}\n",
    "print(person)"
   ]
  },
  {
   "cell_type": "code",
   "execution_count": 3,
   "id": "724f0a85-f61c-4fa1-b479-ac164a5fb3c5",
   "metadata": {},
   "outputs": [
    {
     "name": "stdout",
     "output_type": "stream",
     "text": [
      "Sourabh\n"
     ]
    }
   ],
   "source": [
    "# access value by key\n",
    "print(person['name'])"
   ]
  },
  {
   "cell_type": "code",
   "execution_count": 4,
   "id": "fb9e2c40-68f8-4486-b7fd-86db6ff10954",
   "metadata": {},
   "outputs": [
    {
     "name": "stdout",
     "output_type": "stream",
     "text": [
      "{'name': 'Sourabh', 'age': 21, 'city': 'Dehradun', 'profession': 'Engineer'}\n"
     ]
    }
   ],
   "source": [
    "# add a new key-value pair\n",
    "person['profession'] = 'Engineer'\n",
    "print(person)"
   ]
  },
  {
   "cell_type": "code",
   "execution_count": 5,
   "id": "be2da3e8-bb90-4d92-bf82-a8b68e97c5b6",
   "metadata": {},
   "outputs": [
    {
     "name": "stdout",
     "output_type": "stream",
     "text": [
      "{'name': 'Sourabh', 'age': 22, 'city': 'Dehradun', 'profession': 'Engineer'}\n"
     ]
    }
   ],
   "source": [
    "# update an existing value\n",
    "person['age'] = person['age']+1;\n",
    "print(person)"
   ]
  },
  {
   "cell_type": "code",
   "execution_count": 6,
   "id": "67e749f8-aff7-48b5-b1d6-184ba87f64af",
   "metadata": {},
   "outputs": [
    {
     "name": "stdout",
     "output_type": "stream",
     "text": [
      "Dehradun\n",
      "{'name': 'Sourabh', 'age': 22, 'profession': 'Engineer'}\n"
     ]
    }
   ],
   "source": [
    "# remove a key-value pair\n",
    "removed_value = person.pop('city')\n",
    "print(removed_value)\n",
    "print(person )"
   ]
  },
  {
   "cell_type": "code",
   "execution_count": 7,
   "id": "d29f5afd-93ae-4138-a854-e255c5de7b4b",
   "metadata": {},
   "outputs": [
    {
     "name": "stdout",
     "output_type": "stream",
     "text": [
      "dict_keys(['name', 'age', 'profession'])\n"
     ]
    }
   ],
   "source": [
    "# keys(): Return a view of all keys.\n",
    "print(person.keys())"
   ]
  },
  {
   "cell_type": "code",
   "execution_count": 8,
   "id": "dc8cf748-0723-4d45-9c5b-9e42ac2eb546",
   "metadata": {},
   "outputs": [
    {
     "name": "stdout",
     "output_type": "stream",
     "text": [
      "dict_values(['Sourabh', 22, 'Engineer'])\n"
     ]
    }
   ],
   "source": [
    "# values(): Return a view of all values.\n",
    "print(person.values())"
   ]
  },
  {
   "cell_type": "code",
   "execution_count": 9,
   "id": "eacab19d-c793-4169-9c02-5d1b43308fec",
   "metadata": {},
   "outputs": [
    {
     "name": "stdout",
     "output_type": "stream",
     "text": [
      "dict_items([('name', 'Sourabh'), ('age', 22), ('profession', 'Engineer')])\n"
     ]
    }
   ],
   "source": [
    "# items(): Return a view of key-value pairs.\n",
    "print(person.items())"
   ]
  },
  {
   "cell_type": "code",
   "execution_count": 10,
   "id": "b7246538-88e8-4ed8-b331-fee8aa178896",
   "metadata": {},
   "outputs": [
    {
     "name": "stdout",
     "output_type": "stream",
     "text": [
      "('profession', 'Engineer')\n"
     ]
    }
   ],
   "source": [
    "# popitem(): Remove and return the last inserted key-value pair.\n",
    "print(person.popitem())"
   ]
  },
  {
   "cell_type": "code",
   "execution_count": 11,
   "id": "9a4c4cb8-b097-4914-bac8-fafb3d5fd459",
   "metadata": {},
   "outputs": [
    {
     "data": {
      "text/plain": [
       "2"
      ]
     },
     "execution_count": 11,
     "metadata": {},
     "output_type": "execute_result"
    }
   ],
   "source": [
    "# len(): Number of key-value pairs.\n",
    "len(person)"
   ]
  },
  {
   "cell_type": "code",
   "execution_count": 23,
   "id": "751c157c-8d29-4b37-9b2c-b3708a745100",
   "metadata": {},
   "outputs": [
    {
     "name": "stdout",
     "output_type": "stream",
     "text": [
      "{}\n"
     ]
    }
   ],
   "source": [
    "person.clear()\n",
    "print(person)"
   ]
  },
  {
   "cell_type": "code",
   "execution_count": null,
   "id": "67901d7a-cca5-4957-9ffc-f52ad8d8e953",
   "metadata": {},
   "outputs": [],
   "source": []
  }
 ],
 "metadata": {
  "kernelspec": {
   "display_name": "Python 3 (ipykernel)",
   "language": "python",
   "name": "python3"
  },
  "language_info": {
   "codemirror_mode": {
    "name": "ipython",
    "version": 3
   },
   "file_extension": ".py",
   "mimetype": "text/x-python",
   "name": "python",
   "nbconvert_exporter": "python",
   "pygments_lexer": "ipython3",
   "version": "3.12.4"
  }
 },
 "nbformat": 4,
 "nbformat_minor": 5
}
